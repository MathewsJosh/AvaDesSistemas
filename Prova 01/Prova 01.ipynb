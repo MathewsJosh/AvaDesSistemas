{
 "cells": [
  {
   "cell_type": "markdown",
   "id": "addeb510",
   "metadata": {},
   "source": [
    "Aluno: Mathews Edwirds <br>\n",
    "Matrícula: 201765503ab <br>"
   ]
  },
  {
   "cell_type": "markdown",
   "id": "5b210fb5",
   "metadata": {},
   "source": [
    "### 1) Um servidor Web tem uma CPU e um disco e foi monitorado durante uma hora. Durante este período, a utilização da CPU foi de 30% e 10800 requisições HTTP foram processadas. Cada requisição requer em média 3 operações de I/O. O tempo médio de serviço no disco é de 20mseg.\n",
    "\n",
    "Faça (mostre o desenvolvimento):\n",
    "\n",
    "a) Quais a demandas na CPU e no disco de uma requisição HTTP típica? <br>\n",
    "b) Qual o tempo de resposta médio? <br>\n",
    "c) Quantas requisições em média competem por CPU? <br>\n",
    "\n",
    "Esse é mais chatinho… <br>\n",
    "d) Assuma que no máximo n requisições HTTP podem estar em execução no servidor Web em um dado instante. Requisições que chega e encontram n requisições já em processamento serão colocadas em uma fila de processamento, que, assume-se, tem tamanho infinito. Grafe o throughput e o tempo de execução de uma requisição típica em função de n, para n = 1, 2, 3, ...., 10...\n"
   ]
  },
  {
   "cell_type": "markdown",
   "id": "f87a1108",
   "metadata": {},
   "source": [
    "###### a) Quais a demandas na CPU e no disco de uma requisição HTTP típica?\n",
    "Dados:\n",
    "\n",
    "Tempo: 1 hora <br>\n",
    "Utilização de CPU: 30% <br>\n",
    "Total de requisições: 10800 <br>\n",
    "Média de operações de I/O por requisição: 3 <br>\n",
    "Tempo de serviço do disco: 20mseg <br>\n",
    "\n",
    "Referências: \n",
    "\n",
    "https://edisciplinas.usp.br/pluginfile.php/4140018/mod_resource/content/1/11aula%20-%20ResolucaoAnalitica.pdf <br>\n",
    "http://www.dsc.ufcg.edu.br/~reinaldo/adsd_files/ANALISE_OPERACIONAL_6slides.pdf <br>\n",
    "https://homepages.dcc.ufmg.br/~jussara/anamodes/aula3-2014.pdf <br>"
   ]
  },
  {
   "cell_type": "code",
   "execution_count": 1,
   "id": "e9c03664",
   "metadata": {},
   "outputs": [
    {
     "name": "stdout",
     "output_type": "stream",
     "text": [
      "CPU:\n",
      "Taxa média de processamento na CPU: 3.0 transações / seg\n",
      "Utilização da CPU: 30.0%\n",
      "Demanda da CPU: 0.1seg (100.0ms)\n",
      "\n",
      "Disco:\n",
      "Taxa média de processamento no disco: 3.0 transações / seg\n",
      "Operações de I/O por segundo no disco: 9.0 operações de I/O /segundo\n",
      "Utilização do disco: 18.0%\n",
      "Demanda do disco: 0.06seg (60.0ms)\n"
     ]
    }
   ],
   "source": [
    "print(\"CPU:\")\n",
    "#Vamos começar encontrando o número de transações por segundo:\n",
    "CPU_TotalRequisicoes = 10800                            #Em uma hora\n",
    "CPU_TransacoesSegundo = CPU_TotalRequisicoes/3600       #Transações por segundo\n",
    "print(\"Taxa média de processamento na CPU: {} transações / seg\".format(CPU_TransacoesSegundo))\n",
    "\n",
    "#Assim, encontramos a demanda de serviço no CPU:\n",
    "CPU_Utilizacao = 0.30  #%\n",
    "CPU_Demanda = CPU_Utilizacao / CPU_TransacoesSegundo\n",
    "print(\"Utilização da CPU: {}%\".format(CPU_Utilizacao*100))\n",
    "print(\"Demanda da CPU: {}seg ({}ms)\".format(round(CPU_Demanda,4),round(CPU_Demanda,4)*1000))\n",
    "\n",
    "print(\"\\nDisco:\")\n",
    "#Vamos começar encontrando o número de transações por segundo\n",
    "Disco_TotalRequisicoes = 10800                              #Em uma hora\n",
    "Disco_TransacoesSegundo = Disco_TotalRequisicoes/3600       #Transações por segundo\n",
    "print(\"Taxa média de processamento no disco: {} transações / seg\".format(Disco_TransacoesSegundo))\n",
    "\n",
    "#Agora vamos calcular a taxa média de processamento no disco (em segundos)\n",
    "Disco_MediaOperacoesIO = 3\n",
    "Disco_OperacoesSegundo = Disco_TransacoesSegundo * Disco_MediaOperacoesIO\n",
    "print(\"Operações de I/O por segundo no disco: {} operações de I/O /segundo\".format(Disco_OperacoesSegundo))\n",
    "\n",
    "# Considerando o tempo de serviço como 20mseg\n",
    "Disco_TempoServico = 0.02\n",
    "Disco_Utilizacao = Disco_OperacoesSegundo * Disco_TempoServico * 100\n",
    "print(\"Utilização do disco: {}%\".format(Disco_Utilizacao))\n",
    "\n",
    "#Por fim, encontramos a demanda de serviço no disco:\n",
    "Disco_Demanda = Disco_MediaOperacoesIO * Disco_TempoServico\n",
    "print(\"Demanda do disco: {}seg ({}ms)\".format(Disco_Demanda,Disco_Demanda*1000))"
   ]
  },
  {
   "cell_type": "markdown",
   "id": "42513e96",
   "metadata": {},
   "source": [
    "###### b) Qual o tempo de resposta médio?"
   ]
  },
  {
   "cell_type": "code",
   "execution_count": 2,
   "id": "445d4fd7",
   "metadata": {},
   "outputs": [
    {
     "name": "stdout",
     "output_type": "stream",
     "text": [
      "Tempo de resposta médio: 1.0 segundo\n"
     ]
    }
   ],
   "source": [
    "# O tempo de resposta médio, nesse caso, é a média de operações de I/O por requisição dividido pelo \n",
    "# num. de transações por segundo do sistema\n",
    "MediaOperacoesIO = 3\n",
    "TransacoesSegundo = 10800/3600       #Transações por segundo\n",
    "TempoRespostaMédio = MediaOperacoesIO/TransacoesSegundo\n",
    "\n",
    "print(\"Tempo de resposta médio: {} segundo\".format(TempoRespostaMédio))"
   ]
  },
  {
   "cell_type": "markdown",
   "id": "0b1b86a2",
   "metadata": {},
   "source": [
    "###### c) Quantas requisições em média competem por CPU?"
   ]
  },
  {
   "cell_type": "code",
   "execution_count": 3,
   "id": "cec47873",
   "metadata": {},
   "outputs": [
    {
     "name": "stdout",
     "output_type": "stream",
     "text": [
      "Aproximadamente 3240 requisições (30.0% de 10800) competem por CPU.\n"
     ]
    }
   ],
   "source": [
    "CPU_Utilizacao = 0.30\n",
    "TotalRequisicoes = 10800  \n",
    "CPU_RequisicoesMedias = int(CPU_Utilizacao * TotalRequisicoes)\n",
    "print(\"Aproximadamente {} requisições ({}% de {}) competem por CPU.\".format(CPU_RequisicoesMedias, CPU_Utilizacao*100, TotalRequisicoes))"
   ]
  },
  {
   "cell_type": "markdown",
   "id": "d50fb3f3",
   "metadata": {},
   "source": [
    "###### d) Assuma que no máximo n requisições HTTP podem estar em execução no servidor Web em um dado instante. As Requisições que chegam e encontram n requisições já em processamento serão colocadas em uma fila de processamento, que, assume-se, tem tamanho infinito. Grafe o throughput e o tempo de execução de uma requisição típica em função de n, para n = 1, 2, 3, ...., 10..."
   ]
  },
  {
   "cell_type": "code",
   "execution_count": 4,
   "id": "59080fc3",
   "metadata": {},
   "outputs": [
    {
     "data": {
      "image/png": "[encoded data removed]",
      "text/plain": [
       "<Figure size 432x288 with 1 Axes>"
      ]
     },
     "metadata": {
      "needs_background": "light"
     },
     "output_type": "display_data"
    }
   ],
   "source": [
    "%matplotlib inline\n",
    "import matplotlib.pyplot as plt\n",
    "from matplotlib.pyplot import figure\n",
    "\n",
    "TotalDemandas = Disco_Demanda + CPU_Demanda\n",
    "throu, execucao = [], []\n",
    "\n",
    "for n in range(1, 10 + 1):\n",
    "    TempoExecucao = n / TotalDemandas#TransacoesSegundo\n",
    "    throu.append(n)\n",
    "    execucao.append(TempoExecucao)\n",
    "\n",
    "plt.plot(throu, execucao, color='black');\n",
    "plt.xlabel(\"N° Requisições (n)\");\n",
    "plt.ylabel(\"Tempo de Execução\");\n",
    "plt.title(\"N° Requisições (n) x Tempo de Execução\");"
   ]
  },
  {
   "cell_type": "markdown",
   "id": "3a3262f6",
   "metadata": {},
   "source": [
    "#### 2) Seja um consultório psiquiátrico com as seguintes características: \n",
    "\n",
    "a) somente 60% dos pacientes em potencial que ligam para o consultório conseguem falar diretamente com um especialista (os outros 40% deixam o telefone de contato).  <br>\n",
    "b) 75% das vezes um especialista é capaz de retornar a ligação no mesmo dia enquanto que nas demais vezes o contato é feito no dia seguinte. <br>\n",
    "c) a experiência na clínica indica que a probabilidade de um paciente marcar a consulta é de 0.8 se ele conseguiu falar imediatamente com o especialista, e é de 0.6 e 0.4, respectivamente, se a sua ligação foi retornada no mesmo dia ou no dia seguinte."
   ]
  },
  {
   "cell_type": "markdown",
   "id": "58ba38a1",
   "metadata": {},
   "source": [
    "###### Pergunta 1) Qual a porcentagem de pessoas que telefonam que marcam consulta?\n",
    "\n",
    "Vamos considerar que num dia, 100 clientes ligaram para o consultório e que quando um cliente deixa o telefone, um especialista consegue retornar a ligação no mesmo dia 75% das vezes.\n",
    "\n",
    "Desses clientes, temos que:\n",
    "* 60 clientes falaram com um especialista no telefone <br>\n",
    "* 40 clientes deixaram o telefone, sendo que:\n",
    "   * 30 receberam retorno no mesmo dia\n",
    "   * 10 receberam retorno no dia seguinte\n",
    "   \n",
    "Devemos agora considerar que as probabilidades para um cliente realmente marcar a consulta são:\n",
    "* 80% quando atendido diretamente por um especialista\n",
    "* 60% quando a ligação é retornada no mesmo dia\n",
    "* 40% quando a ligação é retornada no dia seguinte\n",
    "\n",
    "Dessa forma, podemos calcular o número de clientes que marcaram consulta em cada caso:\n",
    "* Dos 60 clientes que falaram com um especialista no telefone, 48 marcaram consulta.\n",
    "* Dos 30 clientes que deixaram o telefone e que foram retornados no mesmo dia, 18 marcaram consulta.\n",
    "* Dos 10 clientes que deixaram o telefone e que foram retornados no dia seguinte, 4 marcaram consulta.\n",
    "\n",
    "Somando, descobrimos que 70 clientes marcaram consulta. O que corresponde a 70% do total de clientes que ligaram para a clínica."
   ]
  },
  {
   "cell_type": "markdown",
   "id": "1da9d63b",
   "metadata": {},
   "source": [
    "###### Pergunta 2) Qual a porcentagem das pessoas que marcam consulta que só tiveram sua ligação retornada no dia seguinte?\n",
    "\n",
    "Probabilidade de marcar consulta: 0.7\n",
    "Probabilidade do contato ser feito no dia seguinte: 0.25\n",
    "Probabilidade de marcar consulta se a pessoa só teve a ligação retornada no dia seguinte: 0.4\n",
    "\n",
    "Agora, utilizando o teorema de Bayes:\n",
    "\n",
    "$P (\\frac{DS}{MC}) = \\frac{P(\\frac{MC}{DS}) * P(DS)}{P(MC)} = \\frac{0.4 * (0.25 * 0.4)}{0.7} = 5.71$% \n",
    "\n",
    "Por fim encontramos que 5.71% é a porcentagem das pessoas que marcam consulta que só tiveram sua ligação retornada no dia seguinte."
   ]
  }
 ],
 "metadata": {
  "kernelspec": {
   "display_name": "Python 3",
   "language": "python",
   "name": "python3"
  },
  "language_info": {
   "codemirror_mode": {
    "name": "ipython",
    "version": 3
   },
   "file_extension": ".py",
   "mimetype": "text/x-python",
   "name": "python",
   "nbconvert_exporter": "python",
   "pygments_lexer": "ipython3",
   "version": "3.8.8"
  }
 },
 "nbformat": 4,
 "nbformat_minor": 5
}
